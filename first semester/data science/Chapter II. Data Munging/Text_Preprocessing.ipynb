{
  "nbformat": 4,
  "nbformat_minor": 0,
  "metadata": {
    "colab": {
      "provenance": []
    },
    "kernelspec": {
      "name": "python3",
      "display_name": "Python 3"
    },
    "language_info": {
      "name": "python"
    }
  },
  "cells": [
    {
      "cell_type": "code",
      "source": [
        "import nltk\n",
        "#nltk.download('all')"
      ],
      "metadata": {
        "colab": {
          "base_uri": "https://localhost:8080/"
        },
        "id": "KEXP2qtYiTPI",
        "outputId": "db1397dc-8d75-42d5-96ca-51b36b341bcf"
      },
      "execution_count": null,
      "outputs": [
        {
          "output_type": "stream",
          "name": "stderr",
          "text": [
            "[nltk_data] Downloading collection 'all'\n",
            "[nltk_data]    | \n",
            "[nltk_data]    | Downloading package abc to /root/nltk_data...\n",
            "[nltk_data]    |   Package abc is already up-to-date!\n",
            "[nltk_data]    | Downloading package alpino to /root/nltk_data...\n",
            "[nltk_data]    |   Package alpino is already up-to-date!\n",
            "[nltk_data]    | Downloading package averaged_perceptron_tagger to\n",
            "[nltk_data]    |     /root/nltk_data...\n",
            "[nltk_data]    |   Package averaged_perceptron_tagger is already up-\n",
            "[nltk_data]    |       to-date!\n",
            "[nltk_data]    | Downloading package averaged_perceptron_tagger_ru to\n",
            "[nltk_data]    |     /root/nltk_data...\n",
            "[nltk_data]    |   Package averaged_perceptron_tagger_ru is already\n",
            "[nltk_data]    |       up-to-date!\n",
            "[nltk_data]    | Downloading package basque_grammars to\n",
            "[nltk_data]    |     /root/nltk_data...\n",
            "[nltk_data]    |   Package basque_grammars is already up-to-date!\n",
            "[nltk_data]    | Downloading package bcp47 to /root/nltk_data...\n",
            "[nltk_data]    |   Package bcp47 is already up-to-date!\n",
            "[nltk_data]    | Downloading package biocreative_ppi to\n",
            "[nltk_data]    |     /root/nltk_data...\n",
            "[nltk_data]    |   Package biocreative_ppi is already up-to-date!\n",
            "[nltk_data]    | Downloading package bllip_wsj_no_aux to\n",
            "[nltk_data]    |     /root/nltk_data...\n",
            "[nltk_data]    |   Package bllip_wsj_no_aux is already up-to-date!\n",
            "[nltk_data]    | Downloading package book_grammars to\n",
            "[nltk_data]    |     /root/nltk_data...\n",
            "[nltk_data]    |   Package book_grammars is already up-to-date!\n",
            "[nltk_data]    | Downloading package brown to /root/nltk_data...\n",
            "[nltk_data]    |   Package brown is already up-to-date!\n",
            "[nltk_data]    | Downloading package brown_tei to /root/nltk_data...\n",
            "[nltk_data]    |   Package brown_tei is already up-to-date!\n",
            "[nltk_data]    | Downloading package cess_cat to /root/nltk_data...\n",
            "[nltk_data]    |   Package cess_cat is already up-to-date!\n",
            "[nltk_data]    | Downloading package cess_esp to /root/nltk_data...\n",
            "[nltk_data]    |   Package cess_esp is already up-to-date!\n",
            "[nltk_data]    | Downloading package chat80 to /root/nltk_data...\n",
            "[nltk_data]    |   Package chat80 is already up-to-date!\n",
            "[nltk_data]    | Downloading package city_database to\n",
            "[nltk_data]    |     /root/nltk_data...\n",
            "[nltk_data]    |   Package city_database is already up-to-date!\n",
            "[nltk_data]    | Downloading package cmudict to /root/nltk_data...\n",
            "[nltk_data]    |   Package cmudict is already up-to-date!\n",
            "[nltk_data]    | Downloading package comparative_sentences to\n",
            "[nltk_data]    |     /root/nltk_data...\n",
            "[nltk_data]    |   Package comparative_sentences is already up-to-\n",
            "[nltk_data]    |       date!\n",
            "[nltk_data]    | Downloading package comtrans to /root/nltk_data...\n",
            "[nltk_data]    |   Package comtrans is already up-to-date!\n",
            "[nltk_data]    | Downloading package conll2000 to /root/nltk_data...\n",
            "[nltk_data]    |   Package conll2000 is already up-to-date!\n",
            "[nltk_data]    | Downloading package conll2002 to /root/nltk_data...\n",
            "[nltk_data]    |   Package conll2002 is already up-to-date!\n",
            "[nltk_data]    | Downloading package conll2007 to /root/nltk_data...\n",
            "[nltk_data]    |   Package conll2007 is already up-to-date!\n",
            "[nltk_data]    | Downloading package crubadan to /root/nltk_data...\n",
            "[nltk_data]    |   Package crubadan is already up-to-date!\n",
            "[nltk_data]    | Downloading package dependency_treebank to\n",
            "[nltk_data]    |     /root/nltk_data...\n",
            "[nltk_data]    |   Package dependency_treebank is already up-to-date!\n",
            "[nltk_data]    | Downloading package dolch to /root/nltk_data...\n",
            "[nltk_data]    |   Package dolch is already up-to-date!\n",
            "[nltk_data]    | Downloading package europarl_raw to\n",
            "[nltk_data]    |     /root/nltk_data...\n",
            "[nltk_data]    |   Package europarl_raw is already up-to-date!\n",
            "[nltk_data]    | Downloading package extended_omw to\n",
            "[nltk_data]    |     /root/nltk_data...\n",
            "[nltk_data]    |   Package extended_omw is already up-to-date!\n",
            "[nltk_data]    | Downloading package floresta to /root/nltk_data...\n",
            "[nltk_data]    |   Package floresta is already up-to-date!\n",
            "[nltk_data]    | Downloading package framenet_v15 to\n",
            "[nltk_data]    |     /root/nltk_data...\n",
            "[nltk_data]    |   Package framenet_v15 is already up-to-date!\n",
            "[nltk_data]    | Downloading package framenet_v17 to\n",
            "[nltk_data]    |     /root/nltk_data...\n",
            "[nltk_data]    |   Package framenet_v17 is already up-to-date!\n",
            "[nltk_data]    | Downloading package gazetteers to /root/nltk_data...\n",
            "[nltk_data]    |   Package gazetteers is already up-to-date!\n",
            "[nltk_data]    | Downloading package genesis to /root/nltk_data...\n",
            "[nltk_data]    |   Package genesis is already up-to-date!\n",
            "[nltk_data]    | Downloading package gutenberg to /root/nltk_data...\n",
            "[nltk_data]    |   Package gutenberg is already up-to-date!\n",
            "[nltk_data]    | Downloading package ieer to /root/nltk_data...\n",
            "[nltk_data]    |   Package ieer is already up-to-date!\n",
            "[nltk_data]    | Downloading package inaugural to /root/nltk_data...\n",
            "[nltk_data]    |   Package inaugural is already up-to-date!\n",
            "[nltk_data]    | Downloading package indian to /root/nltk_data...\n",
            "[nltk_data]    |   Package indian is already up-to-date!\n",
            "[nltk_data]    | Downloading package jeita to /root/nltk_data...\n",
            "[nltk_data]    |   Package jeita is already up-to-date!\n",
            "[nltk_data]    | Downloading package kimmo to /root/nltk_data...\n",
            "[nltk_data]    |   Package kimmo is already up-to-date!\n",
            "[nltk_data]    | Downloading package knbc to /root/nltk_data...\n",
            "[nltk_data]    |   Package knbc is already up-to-date!\n",
            "[nltk_data]    | Downloading package large_grammars to\n",
            "[nltk_data]    |     /root/nltk_data...\n",
            "[nltk_data]    |   Package large_grammars is already up-to-date!\n",
            "[nltk_data]    | Downloading package lin_thesaurus to\n",
            "[nltk_data]    |     /root/nltk_data...\n",
            "[nltk_data]    |   Package lin_thesaurus is already up-to-date!\n",
            "[nltk_data]    | Downloading package mac_morpho to /root/nltk_data...\n",
            "[nltk_data]    |   Package mac_morpho is already up-to-date!\n",
            "[nltk_data]    | Downloading package machado to /root/nltk_data...\n",
            "[nltk_data]    |   Package machado is already up-to-date!\n",
            "[nltk_data]    | Downloading package masc_tagged to /root/nltk_data...\n",
            "[nltk_data]    |   Package masc_tagged is already up-to-date!\n",
            "[nltk_data]    | Downloading package maxent_ne_chunker to\n",
            "[nltk_data]    |     /root/nltk_data...\n",
            "[nltk_data]    |   Package maxent_ne_chunker is already up-to-date!\n",
            "[nltk_data]    | Downloading package maxent_treebank_pos_tagger to\n",
            "[nltk_data]    |     /root/nltk_data...\n",
            "[nltk_data]    |   Package maxent_treebank_pos_tagger is already up-\n",
            "[nltk_data]    |       to-date!\n",
            "[nltk_data]    | Downloading package moses_sample to\n",
            "[nltk_data]    |     /root/nltk_data...\n",
            "[nltk_data]    |   Package moses_sample is already up-to-date!\n",
            "[nltk_data]    | Downloading package movie_reviews to\n",
            "[nltk_data]    |     /root/nltk_data...\n",
            "[nltk_data]    |   Package movie_reviews is already up-to-date!\n",
            "[nltk_data]    | Downloading package mte_teip5 to /root/nltk_data...\n",
            "[nltk_data]    |   Package mte_teip5 is already up-to-date!\n",
            "[nltk_data]    | Downloading package mwa_ppdb to /root/nltk_data...\n",
            "[nltk_data]    |   Package mwa_ppdb is already up-to-date!\n",
            "[nltk_data]    | Downloading package names to /root/nltk_data...\n",
            "[nltk_data]    |   Package names is already up-to-date!\n",
            "[nltk_data]    | Downloading package nombank.1.0 to /root/nltk_data...\n",
            "[nltk_data]    |   Package nombank.1.0 is already up-to-date!\n",
            "[nltk_data]    | Downloading package nonbreaking_prefixes to\n",
            "[nltk_data]    |     /root/nltk_data...\n",
            "[nltk_data]    |   Package nonbreaking_prefixes is already up-to-date!\n",
            "[nltk_data]    | Downloading package nps_chat to /root/nltk_data...\n",
            "[nltk_data]    |   Package nps_chat is already up-to-date!\n",
            "[nltk_data]    | Downloading package omw to /root/nltk_data...\n",
            "[nltk_data]    |   Package omw is already up-to-date!\n",
            "[nltk_data]    | Downloading package omw-1.4 to /root/nltk_data...\n",
            "[nltk_data]    |   Package omw-1.4 is already up-to-date!\n",
            "[nltk_data]    | Downloading package opinion_lexicon to\n",
            "[nltk_data]    |     /root/nltk_data...\n",
            "[nltk_data]    |   Package opinion_lexicon is already up-to-date!\n",
            "[nltk_data]    | Downloading package panlex_swadesh to\n",
            "[nltk_data]    |     /root/nltk_data...\n",
            "[nltk_data]    |   Package panlex_swadesh is already up-to-date!\n",
            "[nltk_data]    | Downloading package paradigms to /root/nltk_data...\n",
            "[nltk_data]    |   Package paradigms is already up-to-date!\n",
            "[nltk_data]    | Downloading package pe08 to /root/nltk_data...\n",
            "[nltk_data]    |   Package pe08 is already up-to-date!\n",
            "[nltk_data]    | Downloading package perluniprops to\n",
            "[nltk_data]    |     /root/nltk_data...\n",
            "[nltk_data]    |   Package perluniprops is already up-to-date!\n",
            "[nltk_data]    | Downloading package pil to /root/nltk_data...\n",
            "[nltk_data]    |   Package pil is already up-to-date!\n",
            "[nltk_data]    | Downloading package pl196x to /root/nltk_data...\n",
            "[nltk_data]    |   Package pl196x is already up-to-date!\n",
            "[nltk_data]    | Downloading package porter_test to /root/nltk_data...\n",
            "[nltk_data]    |   Package porter_test is already up-to-date!\n",
            "[nltk_data]    | Downloading package ppattach to /root/nltk_data...\n",
            "[nltk_data]    |   Package ppattach is already up-to-date!\n",
            "[nltk_data]    | Downloading package problem_reports to\n",
            "[nltk_data]    |     /root/nltk_data...\n",
            "[nltk_data]    |   Package problem_reports is already up-to-date!\n",
            "[nltk_data]    | Downloading package product_reviews_1 to\n",
            "[nltk_data]    |     /root/nltk_data...\n",
            "[nltk_data]    |   Package product_reviews_1 is already up-to-date!\n",
            "[nltk_data]    | Downloading package product_reviews_2 to\n",
            "[nltk_data]    |     /root/nltk_data...\n",
            "[nltk_data]    |   Package product_reviews_2 is already up-to-date!\n",
            "[nltk_data]    | Downloading package propbank to /root/nltk_data...\n",
            "[nltk_data]    |   Package propbank is already up-to-date!\n",
            "[nltk_data]    | Downloading package pros_cons to /root/nltk_data...\n",
            "[nltk_data]    |   Package pros_cons is already up-to-date!\n",
            "[nltk_data]    | Downloading package ptb to /root/nltk_data...\n",
            "[nltk_data]    |   Package ptb is already up-to-date!\n",
            "[nltk_data]    | Downloading package punkt to /root/nltk_data...\n",
            "[nltk_data]    |   Package punkt is already up-to-date!\n",
            "[nltk_data]    | Downloading package qc to /root/nltk_data...\n",
            "[nltk_data]    |   Package qc is already up-to-date!\n",
            "[nltk_data]    | Downloading package reuters to /root/nltk_data...\n",
            "[nltk_data]    |   Package reuters is already up-to-date!\n",
            "[nltk_data]    | Downloading package rslp to /root/nltk_data...\n",
            "[nltk_data]    |   Package rslp is already up-to-date!\n",
            "[nltk_data]    | Downloading package rte to /root/nltk_data...\n",
            "[nltk_data]    |   Package rte is already up-to-date!\n",
            "[nltk_data]    | Downloading package sample_grammars to\n",
            "[nltk_data]    |     /root/nltk_data...\n",
            "[nltk_data]    |   Package sample_grammars is already up-to-date!\n",
            "[nltk_data]    | Downloading package semcor to /root/nltk_data...\n",
            "[nltk_data]    |   Package semcor is already up-to-date!\n",
            "[nltk_data]    | Downloading package senseval to /root/nltk_data...\n",
            "[nltk_data]    |   Package senseval is already up-to-date!\n",
            "[nltk_data]    | Downloading package sentence_polarity to\n",
            "[nltk_data]    |     /root/nltk_data...\n",
            "[nltk_data]    |   Package sentence_polarity is already up-to-date!\n",
            "[nltk_data]    | Downloading package sentiwordnet to\n",
            "[nltk_data]    |     /root/nltk_data...\n",
            "[nltk_data]    |   Package sentiwordnet is already up-to-date!\n",
            "[nltk_data]    | Downloading package shakespeare to /root/nltk_data...\n",
            "[nltk_data]    |   Package shakespeare is already up-to-date!\n",
            "[nltk_data]    | Downloading package sinica_treebank to\n",
            "[nltk_data]    |     /root/nltk_data...\n",
            "[nltk_data]    |   Package sinica_treebank is already up-to-date!\n",
            "[nltk_data]    | Downloading package smultron to /root/nltk_data...\n",
            "[nltk_data]    |   Package smultron is already up-to-date!\n",
            "[nltk_data]    | Downloading package snowball_data to\n",
            "[nltk_data]    |     /root/nltk_data...\n",
            "[nltk_data]    |   Package snowball_data is already up-to-date!\n",
            "[nltk_data]    | Downloading package spanish_grammars to\n",
            "[nltk_data]    |     /root/nltk_data...\n",
            "[nltk_data]    |   Package spanish_grammars is already up-to-date!\n",
            "[nltk_data]    | Downloading package state_union to /root/nltk_data...\n",
            "[nltk_data]    |   Package state_union is already up-to-date!\n",
            "[nltk_data]    | Downloading package stopwords to /root/nltk_data...\n",
            "[nltk_data]    |   Package stopwords is already up-to-date!\n",
            "[nltk_data]    | Downloading package subjectivity to\n",
            "[nltk_data]    |     /root/nltk_data...\n",
            "[nltk_data]    |   Package subjectivity is already up-to-date!\n",
            "[nltk_data]    | Downloading package swadesh to /root/nltk_data...\n",
            "[nltk_data]    |   Package swadesh is already up-to-date!\n",
            "[nltk_data]    | Downloading package switchboard to /root/nltk_data...\n",
            "[nltk_data]    |   Package switchboard is already up-to-date!\n",
            "[nltk_data]    | Downloading package tagsets to /root/nltk_data...\n",
            "[nltk_data]    |   Package tagsets is already up-to-date!\n",
            "[nltk_data]    | Downloading package timit to /root/nltk_data...\n",
            "[nltk_data]    |   Package timit is already up-to-date!\n",
            "[nltk_data]    | Downloading package toolbox to /root/nltk_data...\n",
            "[nltk_data]    |   Package toolbox is already up-to-date!\n",
            "[nltk_data]    | Downloading package treebank to /root/nltk_data...\n",
            "[nltk_data]    |   Package treebank is already up-to-date!\n",
            "[nltk_data]    | Downloading package twitter_samples to\n",
            "[nltk_data]    |     /root/nltk_data...\n",
            "[nltk_data]    |   Package twitter_samples is already up-to-date!\n",
            "[nltk_data]    | Downloading package udhr to /root/nltk_data...\n",
            "[nltk_data]    |   Package udhr is already up-to-date!\n",
            "[nltk_data]    | Downloading package udhr2 to /root/nltk_data...\n",
            "[nltk_data]    |   Package udhr2 is already up-to-date!\n",
            "[nltk_data]    | Downloading package unicode_samples to\n",
            "[nltk_data]    |     /root/nltk_data...\n",
            "[nltk_data]    |   Package unicode_samples is already up-to-date!\n",
            "[nltk_data]    | Downloading package universal_tagset to\n",
            "[nltk_data]    |     /root/nltk_data...\n",
            "[nltk_data]    |   Package universal_tagset is already up-to-date!\n",
            "[nltk_data]    | Downloading package universal_treebanks_v20 to\n",
            "[nltk_data]    |     /root/nltk_data...\n",
            "[nltk_data]    |   Package universal_treebanks_v20 is already up-to-\n",
            "[nltk_data]    |       date!\n",
            "[nltk_data]    | Downloading package vader_lexicon to\n",
            "[nltk_data]    |     /root/nltk_data...\n",
            "[nltk_data]    |   Package vader_lexicon is already up-to-date!\n",
            "[nltk_data]    | Downloading package verbnet to /root/nltk_data...\n",
            "[nltk_data]    |   Package verbnet is already up-to-date!\n",
            "[nltk_data]    | Downloading package verbnet3 to /root/nltk_data...\n",
            "[nltk_data]    |   Package verbnet3 is already up-to-date!\n",
            "[nltk_data]    | Downloading package webtext to /root/nltk_data...\n",
            "[nltk_data]    |   Package webtext is already up-to-date!\n",
            "[nltk_data]    | Downloading package wmt15_eval to /root/nltk_data...\n",
            "[nltk_data]    |   Package wmt15_eval is already up-to-date!\n",
            "[nltk_data]    | Downloading package word2vec_sample to\n",
            "[nltk_data]    |     /root/nltk_data...\n",
            "[nltk_data]    |   Package word2vec_sample is already up-to-date!\n",
            "[nltk_data]    | Downloading package wordnet to /root/nltk_data...\n",
            "[nltk_data]    |   Package wordnet is already up-to-date!\n",
            "[nltk_data]    | Downloading package wordnet2021 to /root/nltk_data...\n",
            "[nltk_data]    |   Package wordnet2021 is already up-to-date!\n",
            "[nltk_data]    | Downloading package wordnet2022 to /root/nltk_data...\n",
            "[nltk_data]    |   Package wordnet2022 is already up-to-date!\n",
            "[nltk_data]    | Downloading package wordnet31 to /root/nltk_data...\n",
            "[nltk_data]    |   Package wordnet31 is already up-to-date!\n",
            "[nltk_data]    | Downloading package wordnet_ic to /root/nltk_data...\n",
            "[nltk_data]    |   Package wordnet_ic is already up-to-date!\n",
            "[nltk_data]    | Downloading package words to /root/nltk_data...\n",
            "[nltk_data]    |   Package words is already up-to-date!\n",
            "[nltk_data]    | Downloading package ycoe to /root/nltk_data...\n",
            "[nltk_data]    |   Package ycoe is already up-to-date!\n",
            "[nltk_data]    | \n",
            "[nltk_data]  Done downloading collection all\n"
          ]
        },
        {
          "output_type": "execute_result",
          "data": {
            "text/plain": [
              "True"
            ]
          },
          "metadata": {},
          "execution_count": 40
        }
      ]
    },
    {
      "cell_type": "code",
      "execution_count": null,
      "metadata": {
        "id": "u3n6OVpleJTd"
      },
      "outputs": [],
      "source": [
        "# Import string and regular expression\n",
        "import string\n",
        "import re\n",
        "\n",
        "# Import library for nlp\n",
        "from nltk import PorterStemmer\n",
        "from nltk import word_tokenize"
      ]
    },
    {
      "cell_type": "code",
      "source": [
        "# Read text file\n",
        "with open(\"news_text.txt\") as f:\n",
        "    contents = f.readlines()"
      ],
      "metadata": {
        "id": "78FmpDTuefSR"
      },
      "execution_count": null,
      "outputs": []
    },
    {
      "cell_type": "code",
      "source": [
        "#check the type contents\n",
        "print(type(contents))"
      ],
      "metadata": {
        "colab": {
          "base_uri": "https://localhost:8080/"
        },
        "id": "DO4ofd7jfad5",
        "outputId": "5cffd9a4-2682-45c4-b21c-018b83afb025"
      },
      "execution_count": null,
      "outputs": [
        {
          "output_type": "stream",
          "name": "stdout",
          "text": [
            "<class 'list'>\n"
          ]
        }
      ]
    },
    {
      "cell_type": "code",
      "source": [
        "# Check the length of contents\n",
        "print(len(contents))"
      ],
      "metadata": {
        "colab": {
          "base_uri": "https://localhost:8080/"
        },
        "id": "Afl0fGKHfcBk",
        "outputId": "b78dc7ea-6d00-47fe-fe5c-aad0f3aec221"
      },
      "execution_count": null,
      "outputs": [
        {
          "output_type": "stream",
          "name": "stdout",
          "text": [
            "1\n"
          ]
        }
      ]
    },
    {
      "cell_type": "code",
      "source": [
        "# Get string from the list\n",
        "para = contents[0]\n",
        "print(para)"
      ],
      "metadata": {
        "colab": {
          "base_uri": "https://localhost:8080/"
        },
        "id": "pjJc7NHsfyM3",
        "outputId": "4ec45c02-ece0-447c-845c-cb11001895f9"
      },
      "execution_count": null,
      "outputs": [
        {
          "output_type": "stream",
          "name": "stdout",
          "text": [
            "Nepal APF Club recorded their third straight victory and Sudurpashchim Province won their second match in the Lalitpur Mayor Women's Championship here at the TU Stadium today. APF defeated Koshi Province by seven wickets to remain at the top of the table. Batting first, Koshi posted 87-5 in their allotted 20 overs before APF reached 88-3 with 11 balls to spare.Koshi failed to post a challenging total despite top order batters scoring in 20s.Kajal Shrestha top scored with 29 off 4 balls hitting one each four and six, while skipper Rubina Chhetry struck five fours in her 34-ball 24.Apsari Begam contributed 22 off 36 balls. APF skipper Sita Rana Magar claimed 3-11, while Indu Barma took one wicket.In reply, Mamta Chaudhary top scored with an unbeaten 21 off 28 balls that included a four, while Rana Magar struck three boundaries in her 20-ball 19. Barma hit two fours in her 29-ball 18, while opener Jyoti Pandey (11) and Roma Thapa (11 not out) chipped in valuable runs. Alisha Khadiya, Rubina Chhetry and Nisha Shah took one wicket each for Koshi.APF skipper Rana Magar was named the player of the match for the third straight match.In another match, Sudurpashchim Province outplayed Madhesh Province by seven wickets. Batting first, Madhesh were bowled out for 65 runs in 19 overs before Sudurpashchim raced to 66-3 with 57 balls to spare.Opener Alisha Yadav and Saraswati Kumari contributed 15 runs each for Madhesh, while other batters failed to score in double figures.Laxmi Saud was the pick of the Sudurpashchim bowlers taking 3-15, while Ritu Kanoujiya (2-4) and Samjhana Khadka (2-8) shared four wickets between them. Ishwori Bist and Kabita Joshi bagged one wicket each.In reply, Sudurpashchim lost openers Kabita Kunwar (one) and Samjhana Khadka (nine) with just 10 runs on the board, while skipper Bindu Rawal (10) also fell cheaply. Player-of-thematch Kanoujiya and Rubi Poddar then took the team home with a 33-run partnership for the unbroken fourth wicket.Kanoujiya remained unbeaten on 21 off 27 balls, while Poddar scored 14 not out off just 11 balls. Both the batters hit two boundaries each. Saraswati Kumari, Santoshi Chaudhary and Anuradha Chaudhary grabbed one wicket each for Madhesh.APF are at the top of the five-team table with maximum six points from three matches, while Sudurpashchim are second on four. Koshi are next with two points, whereas Lalitpur Mayor XI and Madhesh are yet to open their accounts.\n"
          ]
        }
      ]
    },
    {
      "cell_type": "markdown",
      "source": [
        "# Preprocessing\n",
        "\n",
        "### 1. Convert the paragraph to Lower Case"
      ],
      "metadata": {
        "id": "grf-rTjmgS0x"
      }
    },
    {
      "cell_type": "code",
      "source": [
        "# Convert the text to lower case\n",
        "para = para.lower()\n",
        "\n",
        "print(para)"
      ],
      "metadata": {
        "colab": {
          "base_uri": "https://localhost:8080/"
        },
        "id": "mkYBMrzPf33E",
        "outputId": "f62f23f0-58b0-4376-e041-2658dfd37089"
      },
      "execution_count": null,
      "outputs": [
        {
          "output_type": "stream",
          "name": "stdout",
          "text": [
            "nepal apf club recorded their third straight victory and sudurpashchim province won their second match in the lalitpur mayor women's championship here at the tu stadium today. apf defeated koshi province by seven wickets to remain at the top of the table. batting first, koshi posted 87-5 in their allotted 20 overs before apf reached 88-3 with 11 balls to spare.koshi failed to post a challenging total despite top order batters scoring in 20s.kajal shrestha top scored with 29 off 4 balls hitting one each four and six, while skipper rubina chhetry struck five fours in her 34-ball 24.apsari begam contributed 22 off 36 balls. apf skipper sita rana magar claimed 3-11, while indu barma took one wicket.in reply, mamta chaudhary top scored with an unbeaten 21 off 28 balls that included a four, while rana magar struck three boundaries in her 20-ball 19. barma hit two fours in her 29-ball 18, while opener jyoti pandey (11) and roma thapa (11 not out) chipped in valuable runs. alisha khadiya, rubina chhetry and nisha shah took one wicket each for koshi.apf skipper rana magar was named the player of the match for the third straight match.in another match, sudurpashchim province outplayed madhesh province by seven wickets. batting first, madhesh were bowled out for 65 runs in 19 overs before sudurpashchim raced to 66-3 with 57 balls to spare.opener alisha yadav and saraswati kumari contributed 15 runs each for madhesh, while other batters failed to score in double figures.laxmi saud was the pick of the sudurpashchim bowlers taking 3-15, while ritu kanoujiya (2-4) and samjhana khadka (2-8) shared four wickets between them. ishwori bist and kabita joshi bagged one wicket each.in reply, sudurpashchim lost openers kabita kunwar (one) and samjhana khadka (nine) with just 10 runs on the board, while skipper bindu rawal (10) also fell cheaply. player-of-thematch kanoujiya and rubi poddar then took the team home with a 33-run partnership for the unbroken fourth wicket.kanoujiya remained unbeaten on 21 off 27 balls, while poddar scored 14 not out off just 11 balls. both the batters hit two boundaries each. saraswati kumari, santoshi chaudhary and anuradha chaudhary grabbed one wicket each for madhesh.apf are at the top of the five-team table with maximum six points from three matches, while sudurpashchim are second on four. koshi are next with two points, whereas lalitpur mayor xi and madhesh are yet to open their accounts.\n"
          ]
        }
      ]
    },
    {
      "cell_type": "markdown",
      "source": [
        "### 2. Remove numbers, punctuations and whitespaces if any."
      ],
      "metadata": {
        "id": "3q8BRnLQhtED"
      }
    },
    {
      "cell_type": "code",
      "source": [
        "# Define function to Remove numbers from the text, if any\n",
        "def remove_numbers(para):\n",
        "    result = re.sub(r'\\d+', '', para)\n",
        "    return result\n",
        "\n",
        "\n",
        "# Define function to remove punctuations from the text\n",
        "def remove_punctuations(para):\n",
        "    translator = str.maketrans('', '', string.punctuation)\n",
        "    return para.translate(translator)\n",
        "\n",
        "\n",
        "# remove whitespace from text\n",
        "def remove_whitespace(para):\n",
        "    return  \" \".join(para.split())"
      ],
      "metadata": {
        "id": "DGRzVLqkgNtp"
      },
      "execution_count": null,
      "outputs": []
    },
    {
      "cell_type": "code",
      "source": [
        "para = remove_numbers(para)\n",
        "para = remove_punctuations(para)\n",
        "\n",
        "print(para)"
      ],
      "metadata": {
        "colab": {
          "base_uri": "https://localhost:8080/"
        },
        "id": "jhUeES1ng9-Z",
        "outputId": "ebba1f87-1f33-431f-d1a6-a10079f8f76e"
      },
      "execution_count": null,
      "outputs": [
        {
          "output_type": "stream",
          "name": "stdout",
          "text": [
            "nepal apf club recorded their third straight victory and sudurpashchim province won their second match in the lalitpur mayor womens championship here at the tu stadium today apf defeated koshi province by seven wickets to remain at the top of the table batting first koshi posted  in their allotted  overs before apf reached  with  balls to sparekoshi failed to post a challenging total despite top order batters scoring in skajal shrestha top scored with  off  balls hitting one each four and six while skipper rubina chhetry struck five fours in her ball apsari begam contributed  off  balls apf skipper sita rana magar claimed  while indu barma took one wicketin reply mamta chaudhary top scored with an unbeaten  off  balls that included a four while rana magar struck three boundaries in her ball  barma hit two fours in her ball  while opener jyoti pandey  and roma thapa  not out chipped in valuable runs alisha khadiya rubina chhetry and nisha shah took one wicket each for koshiapf skipper rana magar was named the player of the match for the third straight matchin another match sudurpashchim province outplayed madhesh province by seven wickets batting first madhesh were bowled out for  runs in  overs before sudurpashchim raced to  with  balls to spareopener alisha yadav and saraswati kumari contributed  runs each for madhesh while other batters failed to score in double figureslaxmi saud was the pick of the sudurpashchim bowlers taking  while ritu kanoujiya  and samjhana khadka  shared four wickets between them ishwori bist and kabita joshi bagged one wicket eachin reply sudurpashchim lost openers kabita kunwar one and samjhana khadka nine with just  runs on the board while skipper bindu rawal  also fell cheaply playerofthematch kanoujiya and rubi poddar then took the team home with a run partnership for the unbroken fourth wicketkanoujiya remained unbeaten on  off  balls while poddar scored  not out off just  balls both the batters hit two boundaries each saraswati kumari santoshi chaudhary and anuradha chaudhary grabbed one wicket each for madheshapf are at the top of the fiveteam table with maximum six points from three matches while sudurpashchim are second on four koshi are next with two points whereas lalitpur mayor xi and madhesh are yet to open their accounts\n"
          ]
        }
      ]
    },
    {
      "cell_type": "code",
      "source": [
        "# Tokenize the paragraph\n",
        "word_tokens = word_tokenize(para)\n",
        "print(word_tokens)"
      ],
      "metadata": {
        "colab": {
          "base_uri": "https://localhost:8080/"
        },
        "id": "M81YMYWijyFY",
        "outputId": "73cdd9ca-37ed-4eb3-8075-7df62d918d34"
      },
      "execution_count": null,
      "outputs": [
        {
          "output_type": "stream",
          "name": "stdout",
          "text": [
            "['nepal', 'apf', 'club', 'recorded', 'their', 'third', 'straight', 'victory', 'and', 'sudurpashchim', 'province', 'won', 'their', 'second', 'match', 'in', 'the', 'lalitpur', 'mayor', 'womens', 'championship', 'here', 'at', 'the', 'tu', 'stadium', 'today', 'apf', 'defeated', 'koshi', 'province', 'by', 'seven', 'wickets', 'to', 'remain', 'at', 'the', 'top', 'of', 'the', 'table', 'batting', 'first', 'koshi', 'posted', 'in', 'their', 'allotted', 'overs', 'before', 'apf', 'reached', 'with', 'balls', 'to', 'sparekoshi', 'failed', 'to', 'post', 'a', 'challenging', 'total', 'despite', 'top', 'order', 'batters', 'scoring', 'in', 'skajal', 'shrestha', 'top', 'scored', 'with', 'off', 'balls', 'hitting', 'one', 'each', 'four', 'and', 'six', 'while', 'skipper', 'rubina', 'chhetry', 'struck', 'five', 'fours', 'in', 'her', 'ball', 'apsari', 'begam', 'contributed', 'off', 'balls', 'apf', 'skipper', 'sita', 'rana', 'magar', 'claimed', 'while', 'indu', 'barma', 'took', 'one', 'wicketin', 'reply', 'mamta', 'chaudhary', 'top', 'scored', 'with', 'an', 'unbeaten', 'off', 'balls', 'that', 'included', 'a', 'four', 'while', 'rana', 'magar', 'struck', 'three', 'boundaries', 'in', 'her', 'ball', 'barma', 'hit', 'two', 'fours', 'in', 'her', 'ball', 'while', 'opener', 'jyoti', 'pandey', 'and', 'roma', 'thapa', 'not', 'out', 'chipped', 'in', 'valuable', 'runs', 'alisha', 'khadiya', 'rubina', 'chhetry', 'and', 'nisha', 'shah', 'took', 'one', 'wicket', 'each', 'for', 'koshiapf', 'skipper', 'rana', 'magar', 'was', 'named', 'the', 'player', 'of', 'the', 'match', 'for', 'the', 'third', 'straight', 'matchin', 'another', 'match', 'sudurpashchim', 'province', 'outplayed', 'madhesh', 'province', 'by', 'seven', 'wickets', 'batting', 'first', 'madhesh', 'were', 'bowled', 'out', 'for', 'runs', 'in', 'overs', 'before', 'sudurpashchim', 'raced', 'to', 'with', 'balls', 'to', 'spareopener', 'alisha', 'yadav', 'and', 'saraswati', 'kumari', 'contributed', 'runs', 'each', 'for', 'madhesh', 'while', 'other', 'batters', 'failed', 'to', 'score', 'in', 'double', 'figureslaxmi', 'saud', 'was', 'the', 'pick', 'of', 'the', 'sudurpashchim', 'bowlers', 'taking', 'while', 'ritu', 'kanoujiya', 'and', 'samjhana', 'khadka', 'shared', 'four', 'wickets', 'between', 'them', 'ishwori', 'bist', 'and', 'kabita', 'joshi', 'bagged', 'one', 'wicket', 'eachin', 'reply', 'sudurpashchim', 'lost', 'openers', 'kabita', 'kunwar', 'one', 'and', 'samjhana', 'khadka', 'nine', 'with', 'just', 'runs', 'on', 'the', 'board', 'while', 'skipper', 'bindu', 'rawal', 'also', 'fell', 'cheaply', 'playerofthematch', 'kanoujiya', 'and', 'rubi', 'poddar', 'then', 'took', 'the', 'team', 'home', 'with', 'a', 'run', 'partnership', 'for', 'the', 'unbroken', 'fourth', 'wicketkanoujiya', 'remained', 'unbeaten', 'on', 'off', 'balls', 'while', 'poddar', 'scored', 'not', 'out', 'off', 'just', 'balls', 'both', 'the', 'batters', 'hit', 'two', 'boundaries', 'each', 'saraswati', 'kumari', 'santoshi', 'chaudhary', 'and', 'anuradha', 'chaudhary', 'grabbed', 'one', 'wicket', 'each', 'for', 'madheshapf', 'are', 'at', 'the', 'top', 'of', 'the', 'fiveteam', 'table', 'with', 'maximum', 'six', 'points', 'from', 'three', 'matches', 'while', 'sudurpashchim', 'are', 'second', 'on', 'four', 'koshi', 'are', 'next', 'with', 'two', 'points', 'whereas', 'lalitpur', 'mayor', 'xi', 'and', 'madhesh', 'are', 'yet', 'to', 'open', 'their', 'accounts']\n"
          ]
        }
      ]
    },
    {
      "cell_type": "markdown",
      "source": [
        "### Remove stopwords from the text\n",
        "Stopwords are the words that do not contribute at all to the purpose."
      ],
      "metadata": {
        "id": "V7W92hQGhyvY"
      }
    },
    {
      "cell_type": "code",
      "source": [
        "from nltk.corpus import stopwords\n",
        "stopwords.words(\"english\")"
      ],
      "metadata": {
        "colab": {
          "base_uri": "https://localhost:8080/"
        },
        "id": "WbtGDDk3hJ4e",
        "outputId": "2d1cfddf-888b-4280-e25d-777f8f124df1"
      },
      "execution_count": null,
      "outputs": [
        {
          "output_type": "execute_result",
          "data": {
            "text/plain": [
              "['i',\n",
              " 'me',\n",
              " 'my',\n",
              " 'myself',\n",
              " 'we',\n",
              " 'our',\n",
              " 'ours',\n",
              " 'ourselves',\n",
              " 'you',\n",
              " \"you're\",\n",
              " \"you've\",\n",
              " \"you'll\",\n",
              " \"you'd\",\n",
              " 'your',\n",
              " 'yours',\n",
              " 'yourself',\n",
              " 'yourselves',\n",
              " 'he',\n",
              " 'him',\n",
              " 'his',\n",
              " 'himself',\n",
              " 'she',\n",
              " \"she's\",\n",
              " 'her',\n",
              " 'hers',\n",
              " 'herself',\n",
              " 'it',\n",
              " \"it's\",\n",
              " 'its',\n",
              " 'itself',\n",
              " 'they',\n",
              " 'them',\n",
              " 'their',\n",
              " 'theirs',\n",
              " 'themselves',\n",
              " 'what',\n",
              " 'which',\n",
              " 'who',\n",
              " 'whom',\n",
              " 'this',\n",
              " 'that',\n",
              " \"that'll\",\n",
              " 'these',\n",
              " 'those',\n",
              " 'am',\n",
              " 'is',\n",
              " 'are',\n",
              " 'was',\n",
              " 'were',\n",
              " 'be',\n",
              " 'been',\n",
              " 'being',\n",
              " 'have',\n",
              " 'has',\n",
              " 'had',\n",
              " 'having',\n",
              " 'do',\n",
              " 'does',\n",
              " 'did',\n",
              " 'doing',\n",
              " 'a',\n",
              " 'an',\n",
              " 'the',\n",
              " 'and',\n",
              " 'but',\n",
              " 'if',\n",
              " 'or',\n",
              " 'because',\n",
              " 'as',\n",
              " 'until',\n",
              " 'while',\n",
              " 'of',\n",
              " 'at',\n",
              " 'by',\n",
              " 'for',\n",
              " 'with',\n",
              " 'about',\n",
              " 'against',\n",
              " 'between',\n",
              " 'into',\n",
              " 'through',\n",
              " 'during',\n",
              " 'before',\n",
              " 'after',\n",
              " 'above',\n",
              " 'below',\n",
              " 'to',\n",
              " 'from',\n",
              " 'up',\n",
              " 'down',\n",
              " 'in',\n",
              " 'out',\n",
              " 'on',\n",
              " 'off',\n",
              " 'over',\n",
              " 'under',\n",
              " 'again',\n",
              " 'further',\n",
              " 'then',\n",
              " 'once',\n",
              " 'here',\n",
              " 'there',\n",
              " 'when',\n",
              " 'where',\n",
              " 'why',\n",
              " 'how',\n",
              " 'all',\n",
              " 'any',\n",
              " 'both',\n",
              " 'each',\n",
              " 'few',\n",
              " 'more',\n",
              " 'most',\n",
              " 'other',\n",
              " 'some',\n",
              " 'such',\n",
              " 'no',\n",
              " 'nor',\n",
              " 'not',\n",
              " 'only',\n",
              " 'own',\n",
              " 'same',\n",
              " 'so',\n",
              " 'than',\n",
              " 'too',\n",
              " 'very',\n",
              " 's',\n",
              " 't',\n",
              " 'can',\n",
              " 'will',\n",
              " 'just',\n",
              " 'don',\n",
              " \"don't\",\n",
              " 'should',\n",
              " \"should've\",\n",
              " 'now',\n",
              " 'd',\n",
              " 'll',\n",
              " 'm',\n",
              " 'o',\n",
              " 're',\n",
              " 've',\n",
              " 'y',\n",
              " 'ain',\n",
              " 'aren',\n",
              " \"aren't\",\n",
              " 'couldn',\n",
              " \"couldn't\",\n",
              " 'didn',\n",
              " \"didn't\",\n",
              " 'doesn',\n",
              " \"doesn't\",\n",
              " 'hadn',\n",
              " \"hadn't\",\n",
              " 'hasn',\n",
              " \"hasn't\",\n",
              " 'haven',\n",
              " \"haven't\",\n",
              " 'isn',\n",
              " \"isn't\",\n",
              " 'ma',\n",
              " 'mightn',\n",
              " \"mightn't\",\n",
              " 'mustn',\n",
              " \"mustn't\",\n",
              " 'needn',\n",
              " \"needn't\",\n",
              " 'shan',\n",
              " \"shan't\",\n",
              " 'shouldn',\n",
              " \"shouldn't\",\n",
              " 'wasn',\n",
              " \"wasn't\",\n",
              " 'weren',\n",
              " \"weren't\",\n",
              " 'won',\n",
              " \"won't\",\n",
              " 'wouldn',\n",
              " \"wouldn't\"]"
            ]
          },
          "metadata": {},
          "execution_count": 50
        }
      ]
    },
    {
      "cell_type": "code",
      "source": [
        "# Store stopwords\n",
        "stop_words = stopwords.words(\"english\")\n",
        "\n",
        "# Filter out the stopwords using list comprehension\n",
        "filtered_tokens = [word for word in word_tokens if word not in stop_words]\n",
        "print(filtered_tokens)"
      ],
      "metadata": {
        "colab": {
          "base_uri": "https://localhost:8080/"
        },
        "id": "wW7Ozc5fh9Dj",
        "outputId": "c6cb996e-498d-4c60-bce3-84cc94589cb0"
      },
      "execution_count": null,
      "outputs": [
        {
          "output_type": "stream",
          "name": "stdout",
          "text": [
            "['nepal', 'apf', 'club', 'recorded', 'third', 'straight', 'victory', 'sudurpashchim', 'province', 'second', 'match', 'lalitpur', 'mayor', 'womens', 'championship', 'tu', 'stadium', 'today', 'apf', 'defeated', 'koshi', 'province', 'seven', 'wickets', 'remain', 'top', 'table', 'batting', 'first', 'koshi', 'posted', 'allotted', 'overs', 'apf', 'reached', 'balls', 'sparekoshi', 'failed', 'post', 'challenging', 'total', 'despite', 'top', 'order', 'batters', 'scoring', 'skajal', 'shrestha', 'top', 'scored', 'balls', 'hitting', 'one', 'four', 'six', 'skipper', 'rubina', 'chhetry', 'struck', 'five', 'fours', 'ball', 'apsari', 'begam', 'contributed', 'balls', 'apf', 'skipper', 'sita', 'rana', 'magar', 'claimed', 'indu', 'barma', 'took', 'one', 'wicketin', 'reply', 'mamta', 'chaudhary', 'top', 'scored', 'unbeaten', 'balls', 'included', 'four', 'rana', 'magar', 'struck', 'three', 'boundaries', 'ball', 'barma', 'hit', 'two', 'fours', 'ball', 'opener', 'jyoti', 'pandey', 'roma', 'thapa', 'chipped', 'valuable', 'runs', 'alisha', 'khadiya', 'rubina', 'chhetry', 'nisha', 'shah', 'took', 'one', 'wicket', 'koshiapf', 'skipper', 'rana', 'magar', 'named', 'player', 'match', 'third', 'straight', 'matchin', 'another', 'match', 'sudurpashchim', 'province', 'outplayed', 'madhesh', 'province', 'seven', 'wickets', 'batting', 'first', 'madhesh', 'bowled', 'runs', 'overs', 'sudurpashchim', 'raced', 'balls', 'spareopener', 'alisha', 'yadav', 'saraswati', 'kumari', 'contributed', 'runs', 'madhesh', 'batters', 'failed', 'score', 'double', 'figureslaxmi', 'saud', 'pick', 'sudurpashchim', 'bowlers', 'taking', 'ritu', 'kanoujiya', 'samjhana', 'khadka', 'shared', 'four', 'wickets', 'ishwori', 'bist', 'kabita', 'joshi', 'bagged', 'one', 'wicket', 'eachin', 'reply', 'sudurpashchim', 'lost', 'openers', 'kabita', 'kunwar', 'one', 'samjhana', 'khadka', 'nine', 'runs', 'board', 'skipper', 'bindu', 'rawal', 'also', 'fell', 'cheaply', 'playerofthematch', 'kanoujiya', 'rubi', 'poddar', 'took', 'team', 'home', 'run', 'partnership', 'unbroken', 'fourth', 'wicketkanoujiya', 'remained', 'unbeaten', 'balls', 'poddar', 'scored', 'balls', 'batters', 'hit', 'two', 'boundaries', 'saraswati', 'kumari', 'santoshi', 'chaudhary', 'anuradha', 'chaudhary', 'grabbed', 'one', 'wicket', 'madheshapf', 'top', 'fiveteam', 'table', 'maximum', 'six', 'points', 'three', 'matches', 'sudurpashchim', 'second', 'four', 'koshi', 'next', 'two', 'points', 'whereas', 'lalitpur', 'mayor', 'xi', 'madhesh', 'yet', 'open', 'accounts']\n"
          ]
        }
      ]
    },
    {
      "cell_type": "markdown",
      "source": [
        "### Stemming\n",
        "Stemming is the process of getting the root form of a word."
      ],
      "metadata": {
        "id": "UYV8NqPbksdx"
      }
    },
    {
      "cell_type": "code",
      "source": [
        "from nltk.stem.porter import PorterStemmer\n",
        "\n",
        "stemmer = PorterStemmer()\n",
        "stems = [stemmer.stem(word) for word in filtered_tokens]\n",
        "print(stems)"
      ],
      "metadata": {
        "colab": {
          "base_uri": "https://localhost:8080/"
        },
        "id": "XXTmWxockJzu",
        "outputId": "ffbdbfcd-208e-4f0f-c05d-659418c7fae9"
      },
      "execution_count": null,
      "outputs": [
        {
          "output_type": "stream",
          "name": "stdout",
          "text": [
            "['nepal', 'apf', 'club', 'record', 'third', 'straight', 'victori', 'sudurpashchim', 'provinc', 'second', 'match', 'lalitpur', 'mayor', 'women', 'championship', 'tu', 'stadium', 'today', 'apf', 'defeat', 'koshi', 'provinc', 'seven', 'wicket', 'remain', 'top', 'tabl', 'bat', 'first', 'koshi', 'post', 'allot', 'over', 'apf', 'reach', 'ball', 'sparekoshi', 'fail', 'post', 'challeng', 'total', 'despit', 'top', 'order', 'batter', 'score', 'skajal', 'shrestha', 'top', 'score', 'ball', 'hit', 'one', 'four', 'six', 'skipper', 'rubina', 'chhetri', 'struck', 'five', 'four', 'ball', 'apsari', 'begam', 'contribut', 'ball', 'apf', 'skipper', 'sita', 'rana', 'magar', 'claim', 'indu', 'barma', 'took', 'one', 'wicketin', 'repli', 'mamta', 'chaudhari', 'top', 'score', 'unbeaten', 'ball', 'includ', 'four', 'rana', 'magar', 'struck', 'three', 'boundari', 'ball', 'barma', 'hit', 'two', 'four', 'ball', 'open', 'jyoti', 'pandey', 'roma', 'thapa', 'chip', 'valuabl', 'run', 'alisha', 'khadiya', 'rubina', 'chhetri', 'nisha', 'shah', 'took', 'one', 'wicket', 'koshiapf', 'skipper', 'rana', 'magar', 'name', 'player', 'match', 'third', 'straight', 'matchin', 'anoth', 'match', 'sudurpashchim', 'provinc', 'outplay', 'madhesh', 'provinc', 'seven', 'wicket', 'bat', 'first', 'madhesh', 'bowl', 'run', 'over', 'sudurpashchim', 'race', 'ball', 'spareopen', 'alisha', 'yadav', 'saraswati', 'kumari', 'contribut', 'run', 'madhesh', 'batter', 'fail', 'score', 'doubl', 'figureslaxmi', 'saud', 'pick', 'sudurpashchim', 'bowler', 'take', 'ritu', 'kanoujiya', 'samjhana', 'khadka', 'share', 'four', 'wicket', 'ishwori', 'bist', 'kabita', 'joshi', 'bag', 'one', 'wicket', 'eachin', 'repli', 'sudurpashchim', 'lost', 'open', 'kabita', 'kunwar', 'one', 'samjhana', 'khadka', 'nine', 'run', 'board', 'skipper', 'bindu', 'rawal', 'also', 'fell', 'cheapli', 'playerofthematch', 'kanoujiya', 'rubi', 'poddar', 'took', 'team', 'home', 'run', 'partnership', 'unbroken', 'fourth', 'wicketkanoujiya', 'remain', 'unbeaten', 'ball', 'poddar', 'score', 'ball', 'batter', 'hit', 'two', 'boundari', 'saraswati', 'kumari', 'santoshi', 'chaudhari', 'anuradha', 'chaudhari', 'grab', 'one', 'wicket', 'madheshapf', 'top', 'fiveteam', 'tabl', 'maximum', 'six', 'point', 'three', 'match', 'sudurpashchim', 'second', 'four', 'koshi', 'next', 'two', 'point', 'wherea', 'lalitpur', 'mayor', 'xi', 'madhesh', 'yet', 'open', 'account']\n"
          ]
        }
      ]
    },
    {
      "cell_type": "markdown",
      "source": [
        "### Lemmatization\n",
        "Lemmatization usually refers to doing things properly with the use of a vocabulary and morphological analysis of words, normally aiming to remove inflectional endings only and to return the base or dictionary form of a word, which is known as the *lemma* ."
      ],
      "metadata": {
        "id": "gtfTGM_VoSnI"
      }
    },
    {
      "cell_type": "code",
      "source": [
        "from nltk.stem import WordNetLemmatizer\n",
        "lemmatizer = WordNetLemmatizer()\n",
        "final_list = [lemmatizer.lemmatize(word) for word in stems]\n",
        "print(final_list)"
      ],
      "metadata": {
        "colab": {
          "base_uri": "https://localhost:8080/"
        },
        "id": "S4Txw4rxoR7p",
        "outputId": "1982abbf-9c0e-4680-a00a-f82f5b0fe449"
      },
      "execution_count": null,
      "outputs": [
        {
          "output_type": "stream",
          "name": "stdout",
          "text": [
            "['nepal', 'apf', 'club', 'record', 'third', 'straight', 'victori', 'sudurpashchim', 'provinc', 'second', 'match', 'lalitpur', 'mayor', 'woman', 'championship', 'tu', 'stadium', 'today', 'apf', 'defeat', 'koshi', 'provinc', 'seven', 'wicket', 'remain', 'top', 'tabl', 'bat', 'first', 'koshi', 'post', 'allot', 'over', 'apf', 'reach', 'ball', 'sparekoshi', 'fail', 'post', 'challeng', 'total', 'despit', 'top', 'order', 'batter', 'score', 'skajal', 'shrestha', 'top', 'score', 'ball', 'hit', 'one', 'four', 'six', 'skipper', 'rubina', 'chhetri', 'struck', 'five', 'four', 'ball', 'apsari', 'begam', 'contribut', 'ball', 'apf', 'skipper', 'sita', 'rana', 'magar', 'claim', 'indu', 'barma', 'took', 'one', 'wicketin', 'repli', 'mamta', 'chaudhari', 'top', 'score', 'unbeaten', 'ball', 'includ', 'four', 'rana', 'magar', 'struck', 'three', 'boundari', 'ball', 'barma', 'hit', 'two', 'four', 'ball', 'open', 'jyoti', 'pandey', 'rom', 'thapa', 'chip', 'valuabl', 'run', 'alisha', 'khadiya', 'rubina', 'chhetri', 'nisha', 'shah', 'took', 'one', 'wicket', 'koshiapf', 'skipper', 'rana', 'magar', 'name', 'player', 'match', 'third', 'straight', 'matchin', 'anoth', 'match', 'sudurpashchim', 'provinc', 'outplay', 'madhesh', 'provinc', 'seven', 'wicket', 'bat', 'first', 'madhesh', 'bowl', 'run', 'over', 'sudurpashchim', 'race', 'ball', 'spareopen', 'alisha', 'yadav', 'saraswati', 'kumari', 'contribut', 'run', 'madhesh', 'batter', 'fail', 'score', 'doubl', 'figureslaxmi', 'saud', 'pick', 'sudurpashchim', 'bowler', 'take', 'ritu', 'kanoujiya', 'samjhana', 'khadka', 'share', 'four', 'wicket', 'ishwori', 'bist', 'kabita', 'joshi', 'bag', 'one', 'wicket', 'eachin', 'repli', 'sudurpashchim', 'lost', 'open', 'kabita', 'kunwar', 'one', 'samjhana', 'khadka', 'nine', 'run', 'board', 'skipper', 'bindu', 'rawal', 'also', 'fell', 'cheapli', 'playerofthematch', 'kanoujiya', 'rubi', 'poddar', 'took', 'team', 'home', 'run', 'partnership', 'unbroken', 'fourth', 'wicketkanoujiya', 'remain', 'unbeaten', 'ball', 'poddar', 'score', 'ball', 'batter', 'hit', 'two', 'boundari', 'saraswati', 'kumari', 'santoshi', 'chaudhari', 'anuradha', 'chaudhari', 'grab', 'one', 'wicket', 'madheshapf', 'top', 'fiveteam', 'tabl', 'maximum', 'six', 'point', 'three', 'match', 'sudurpashchim', 'second', 'four', 'koshi', 'next', 'two', 'point', 'wherea', 'lalitpur', 'mayor', 'xi', 'madhesh', 'yet', 'open', 'account']\n"
          ]
        }
      ]
    },
    {
      "cell_type": "code",
      "source": [],
      "metadata": {
        "id": "fb2NhlAVlPSq"
      },
      "execution_count": null,
      "outputs": []
    }
  ]
}